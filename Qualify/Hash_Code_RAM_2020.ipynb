{
 "cells": [
  {
   "cell_type": "code",
   "execution_count": 1,
   "metadata": {},
   "outputs": [],
   "source": [
    "from tqdm import tqdm_notebook as tqdm\n"
   ]
  },
  {
   "cell_type": "code",
   "execution_count": 2,
   "metadata": {},
   "outputs": [
    {
     "data": {
      "application/vnd.jupyter.widget-view+json": {
       "model_id": "b38a95f19e554854bd0dabfedecce26e",
       "version_major": 2,
       "version_minor": 0
      },
      "text/plain": [
       "HBox(children=(IntProgress(value=0), HTML(value='')))"
      ]
     },
     "metadata": {},
     "output_type": "display_data"
    },
    {
     "name": "stdout",
     "output_type": "stream",
     "text": [
      "\n"
     ]
    }
   ],
   "source": [
    "my_list = list(range(100))\n",
    "\n",
    "with tqdm(total=len(my_list)) as pbar:\n",
    "    for x in my_list:\n",
    "        pbar.update(1)"
   ]
  },
  {
   "cell_type": "code",
   "execution_count": null,
   "metadata": {},
   "outputs": [],
   "source": [
    "class Book():\n",
    "    def __init__(self, id, score):\n",
    "        self.id = id\n",
    "        self.scores = score\n",
    "\n",
    "class Library():\n",
    "    def __init__(self, id, total_book, wait_time, books_per_day, collection):\n",
    "        self.id = id\n",
    "        self.total_book = total_book\n",
    "        self.wait_time = wait_time\n",
    "        self.books_per_day = books_per_day\n",
    "        self.collection = collection\n",
    "\n",
    "def cal_scores(book_scores, library, days_available, book_collected):\n",
    "    lib_scores = {}; \n",
    "    \n",
    "    book_scores_lib = []; total_book_score = 0; book_count = 0; index_count = 0; \n",
    "    book_rank = {}; book_chosen = []; \n",
    "    \n",
    "    library.total_book -= len(book_collected)\n",
    "    \n",
    "    book_set = list(set(library.collection))\n",
    "    \n",
    "#   Rank books' scores\n",
    "    for b in library.collection:\n",
    "        if b not in book_collected:\n",
    "            book_rank[b] = 0\n",
    "        else:\n",
    "            book_rank[b] = book_scores[b]\n",
    "        book_scores_lib.append(book_scores[b])\n",
    "    book_scores_lib.sort(reverse = True)\n",
    "    book_rank = {k: v for k, v in sorted(book_rank.items(), key=lambda item: item[1], reverse = True)}\n",
    "#   Calc total score\n",
    "    for day in range(days_available):\n",
    "        book_count += library.books_per_day\n",
    "        if book_count <= library.total_book:\n",
    "            total_book_score += sum(book_scores_lib[index_count:index_count+library.books_per_day])\n",
    "            index_count += library.books_per_day\n",
    "    lib_scores = total_book_score - library.wait_time \n",
    "    \n",
    "    for book_id in book_rank.keys():\n",
    "        book_chosen.append(book_id)\n",
    "    \n",
    "    return lib_scores, book_chosen, library.wait_time\n",
    "\n",
    "def input_to_vars(data_in):\n",
    "    # Set day limit variable\n",
    "    days_available = data_in[0][2]; num_book_types = data_in[0][0]\n",
    "    # Put data into objects\n",
    "    book_scores = {}; library = [] \n",
    "    for i in range(num_book_types):\n",
    "        book_scores[i] = data_in[1][i]\n",
    "    for i in range(0, data_in[0][1]):\n",
    "        library.append(Library(i, data_in[(i+1)*2][0], data_in[(i+1)*2][1], \\\n",
    "                               data_in[(i+1)*2][2], data_in[((i+1)*2)+1]))\n",
    "    print('Days available: {}, Num_Libs: {}, Num_book_types: {}'.format(days_available, len(library), num_book_types))\n",
    "    return days_available, book_scores, library"
   ]
  }
 ],
 "metadata": {
  "kernelspec": {
   "display_name": "Python 3",
   "language": "python",
   "name": "python3"
  },
  "language_info": {
   "codemirror_mode": {
    "name": "ipython",
    "version": 3
   },
   "file_extension": ".py",
   "mimetype": "text/x-python",
   "name": "python",
   "nbconvert_exporter": "python",
   "pygments_lexer": "ipython3",
   "version": "3.7.4"
  }
 },
 "nbformat": 4,
 "nbformat_minor": 2
}
